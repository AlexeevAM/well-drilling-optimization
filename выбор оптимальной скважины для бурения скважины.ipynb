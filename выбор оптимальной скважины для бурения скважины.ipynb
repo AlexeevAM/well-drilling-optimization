{
 "cells": [
  {
   "cell_type": "markdown",
   "metadata": {},
   "source": [
    "# Проект: выбор оптимальной локации для бурения нефтескважины"
   ]
  },
  {
   "cell_type": "markdown",
   "metadata": {},
   "source": [
    "# Описание проекта"
   ]
  },
  {
   "cell_type": "markdown",
   "metadata": {},
   "source": [
    "Допустим, вы работаете в добывающей компании «ГлавРосГосНефть». Нужно решить, где бурить новую скважину.\n",
    "\n",
    "Вам предоставлены пробы нефти в трёх регионах: в каждом 10 000 месторождений, где измерили качество нефти и объём её запасов. Постройте модель машинного обучения, которая поможет определить регион, где добыча принесёт наибольшую прибыль. Проанализируйте возможную прибыль и риски техникой *Bootstrap.*\n",
    "\n",
    "Шаги для выбора локации:\n",
    "\n",
    "- В избранном регионе ищут месторождения, для каждого определяют значения признаков;\n",
    "- Строят модель и оценивают объём запасов;\n",
    "- Выбирают месторождения с самым высокими оценками значений. Количество месторождений зависит от бюджета компании и стоимости разработки одной скважины;\n",
    "- Прибыль равна суммарной прибыли отобранных месторождений."
   ]
  },
  {
   "cell_type": "markdown",
   "metadata": {},
   "source": [
    "## План работы:\n",
    "\n",
    "1. [Изучение данных. Подготовка данных к моделированию.](#start)\n",
    "\n",
    "2. [Обучение и проверка модели для каждого региона](#train)\n",
    "\n",
    "3. [Подготовка к расчету прибыли и составление функции расчета прибыли в регионе.](#profit)\n",
    "\n",
    "4. [Расчет прибыли и рисков для каждого региона и обоснование выбора региона.](#calculation)\n",
    "\n",
    "5. [Общий вывод.](#conclusion)\n"
   ]
  },
  {
   "cell_type": "markdown",
   "metadata": {},
   "source": [
    "<a id=\"start\"></a>\n",
    "# 1. Загрузка и подготовка данных"
   ]
  },
  {
   "cell_type": "code",
   "execution_count": 1,
   "metadata": {},
   "outputs": [],
   "source": [
    "import matplotlib.pyplot as plt\n",
    "import seaborn as sns\n",
    "import numpy as np\n",
    "import pandas as pd\n",
    "from sklearn.model_selection import train_test_split\n",
    "from sklearn.linear_model import LinearRegression\n",
    "from sklearn.metrics import mean_squared_error\n",
    "from sklearn.preprocessing import StandardScaler\n",
    "from sklearn.utils import shuffle\n",
    "import warnings\n",
    "warnings.filterwarnings('ignore')"
   ]
  },
  {
   "cell_type": "code",
   "execution_count": 2,
   "metadata": {},
   "outputs": [
    {
     "name": "stdout",
     "output_type": "stream",
     "text": [
      "<class 'pandas.core.frame.DataFrame'>\n",
      "RangeIndex: 100000 entries, 0 to 99999\n",
      "Data columns (total 5 columns):\n",
      "id         100000 non-null object\n",
      "f0         100000 non-null float64\n",
      "f1         100000 non-null float64\n",
      "f2         100000 non-null float64\n",
      "product    100000 non-null float64\n",
      "dtypes: float64(4), object(1)\n",
      "memory usage: 3.8+ MB\n"
     ]
    }
   ],
   "source": [
    "df_0 = pd.read_csv('/datasets/geo_data_0.csv')\n",
    "df_0.info()"
   ]
  },
  {
   "cell_type": "code",
   "execution_count": 3,
   "metadata": {},
   "outputs": [
    {
     "name": "stdout",
     "output_type": "stream",
     "text": [
      "<class 'pandas.core.frame.DataFrame'>\n",
      "RangeIndex: 100000 entries, 0 to 99999\n",
      "Data columns (total 5 columns):\n",
      "id         100000 non-null object\n",
      "f0         100000 non-null float64\n",
      "f1         100000 non-null float64\n",
      "f2         100000 non-null float64\n",
      "product    100000 non-null float64\n",
      "dtypes: float64(4), object(1)\n",
      "memory usage: 3.8+ MB\n"
     ]
    }
   ],
   "source": [
    "df_1 = pd.read_csv('/datasets/geo_data_1.csv')\n",
    "df_1.info()"
   ]
  },
  {
   "cell_type": "code",
   "execution_count": 4,
   "metadata": {
    "scrolled": true
   },
   "outputs": [
    {
     "name": "stdout",
     "output_type": "stream",
     "text": [
      "<class 'pandas.core.frame.DataFrame'>\n",
      "RangeIndex: 100000 entries, 0 to 99999\n",
      "Data columns (total 5 columns):\n",
      "id         100000 non-null object\n",
      "f0         100000 non-null float64\n",
      "f1         100000 non-null float64\n",
      "f2         100000 non-null float64\n",
      "product    100000 non-null float64\n",
      "dtypes: float64(4), object(1)\n",
      "memory usage: 3.8+ MB\n"
     ]
    }
   ],
   "source": [
    "df_2 = pd.read_csv('/datasets/geo_data_2.csv')\n",
    "df_2.info()"
   ]
  },
  {
   "cell_type": "markdown",
   "metadata": {},
   "source": [
    "Как видим, данные в порядке, пропуски отсутствуют, с типами данных тоже все в порядке."
   ]
  },
  {
   "cell_type": "markdown",
   "metadata": {},
   "source": [
    "Удалим из каждого датафрейма признак id, так как он не несет значимости для обучения модели."
   ]
  },
  {
   "cell_type": "code",
   "execution_count": 5,
   "metadata": {},
   "outputs": [],
   "source": [
    "df_0 = df_0.drop(['id'], axis=1)\n",
    "df_1 = df_1.drop(['id'], axis=1)\n",
    "df_2 = df_2.drop(['id'], axis=1)"
   ]
  },
  {
   "cell_type": "markdown",
   "metadata": {},
   "source": [
    "Посмотрим количество нулевых значений в целевом признаке в каждом из регионов"
   ]
  },
  {
   "cell_type": "code",
   "execution_count": 6,
   "metadata": {},
   "outputs": [],
   "source": [
    "def check_zeros(df, target_feature):\n",
    "    zeros = df[df[target_feature] == 0][target_feature].count()\n",
    "    percent = zeros / df.shape[0]\n",
    "    print('Количество нулевых значений -', zeros)\n",
    "    print('Удельный вес нулевых значений -', percent)"
   ]
  },
  {
   "cell_type": "code",
   "execution_count": 7,
   "metadata": {
    "scrolled": true
   },
   "outputs": [
    {
     "name": "stdout",
     "output_type": "stream",
     "text": [
      "Количество нулевых значений - 1\n",
      "Удельный вес нулевых значений - 1e-05\n"
     ]
    }
   ],
   "source": [
    "check_zeros(df_0, 'product')\n"
   ]
  },
  {
   "cell_type": "code",
   "execution_count": 8,
   "metadata": {
    "scrolled": true
   },
   "outputs": [
    {
     "name": "stdout",
     "output_type": "stream",
     "text": [
      "Количество нулевых значений - 8235\n",
      "Удельный вес нулевых значений - 0.08235\n"
     ]
    }
   ],
   "source": [
    "check_zeros(df_1, 'product')\n"
   ]
  },
  {
   "cell_type": "code",
   "execution_count": 9,
   "metadata": {
    "scrolled": true
   },
   "outputs": [
    {
     "name": "stdout",
     "output_type": "stream",
     "text": [
      "Количество нулевых значений - 1\n",
      "Удельный вес нулевых значений - 1e-05\n"
     ]
    }
   ],
   "source": [
    "check_zeros(df_2, 'product')\n"
   ]
  },
  {
   "cell_type": "markdown",
   "metadata": {},
   "source": [
    "Визуально посмотрим на распределение значений по столбцу product"
   ]
  },
  {
   "cell_type": "code",
   "execution_count": 10,
   "metadata": {},
   "outputs": [],
   "source": [
    "def oil_hist(seria, bins, xlim_max, ylim_max):\n",
    "    plt.figure(figsize=[12,9])\n",
    "\n",
    "    plt.hist(seria, bins=bins)\n",
    "\n",
    "    plt.xlim([0,xlim_max])\n",
    "    plt.ylim([0,ylim_max])\n",
    "\n",
    "    plt.xlabel(\"Объем нефти на скважину, тыс. барелей\")\n",
    "    plt.ylabel(\"Количество скважин\")\n",
    "\n",
    "    plt.title(\"График распределения по объему скважин\")\n",
    "    plt.show()\n"
   ]
  },
  {
   "cell_type": "code",
   "execution_count": 11,
   "metadata": {},
   "outputs": [
    {
     "data": {
      "image/png": "[encoded data removed]",
      "text/plain": [
       "<Figure size 864x648 with 1 Axes>"
      ]
     },
     "metadata": {
      "needs_background": "light"
     },
     "output_type": "display_data"
    }
   ],
   "source": [
    "oil_hist(df_0['product'], 200, 190, 1000)"
   ]
  },
  {
   "cell_type": "code",
   "execution_count": 12,
   "metadata": {},
   "outputs": [
    {
     "data": {
      "image/png": "[encoded data removed]",
      "text/plain": [
       "<Figure size 864x648 with 1 Axes>"
      ]
     },
     "metadata": {
      "needs_background": "light"
     },
     "output_type": "display_data"
    }
   ],
   "source": [
    "oil_hist(df_1['product'], 100, 190, 1000)"
   ]
  },
  {
   "cell_type": "code",
   "execution_count": 13,
   "metadata": {},
   "outputs": [
    {
     "data": {
      "image/png": "[encoded data removed]",
      "text/plain": [
       "<Figure size 864x648 with 1 Axes>"
      ]
     },
     "metadata": {
      "needs_background": "light"
     },
     "output_type": "display_data"
    }
   ],
   "source": [
    "oil_hist(df_2['product'], 200, 190, 1000)"
   ]
  },
  {
   "cell_type": "markdown",
   "metadata": {},
   "source": [
    "### Вывод"
   ]
  },
  {
   "cell_type": "markdown",
   "metadata": {},
   "source": [
    "В ходе выполнения первого шага мы подготовили данные к обучению.\n",
    "\n",
    "Мы будем анализировать 3 датафрейма (региона) со следующими признаками:\n",
    "\n",
    "id — уникальный идентификатор скважины;\n",
    "\n",
    "f0, f1, f2 — три признака точек;\n",
    "\n",
    "product — объём запасов в скважине (тыс. баррелей).\n",
    "\n",
    "Нами принято решение, удалить из каждого датафрейма признак id, так как он не несет значимости для обучения модели.\n",
    "\n",
    "Пропусков значений и некорректных типов данных нами не обнаружено.\n",
    "\n",
    "Вместе с тем, во втором регионе (df_1) около 8,2% месторождений не имело значения в столбце product. При сравнении с такими же значениями из первого и третьего региона можно сделать вывод, что возможно имела место утеря данных или объем запасов еще не был исследован.\n",
    "\n",
    "Также, мы визуально посмотрели на распределение значений по столбцу product в каждом регионе.\n",
    "\n",
    "На графиках мы увидели, что у первого и третьего региона распределение значений близкое к нормальному, при этом во втором регионе данные имеют странное распределение: от 0 до 5 тыс. баррелей с шагом по 15-20 тыс. равномерно распределены 1000 значений. Данные не подчиняются закону больших чисел и скорее всего введены искусcтвенно."
   ]
  },
  {
   "cell_type": "markdown",
   "metadata": {},
   "source": [
    "<a id=\"train\"></a>\n",
    "\n",
    "# 2. Обучение и проверка модели"
   ]
  },
  {
   "cell_type": "markdown",
   "metadata": {},
   "source": [
    "Проверим качество модели линейной регрессии с текущими значениями признаков и с масштабированными. Проверим эту гипотезу на первом регионе (df_0)."
   ]
  },
  {
   "cell_type": "code",
   "execution_count": 14,
   "metadata": {},
   "outputs": [],
   "source": [
    "def test_split(df, target):\n",
    "    features = df.drop([target] , axis=1)\n",
    "    target = df[target]\n",
    "\n",
    "    features_train, features_valid, target_train, target_valid = train_test_split(\n",
    "    features, target, test_size=0.25, random_state=12345)\n",
    "    \n",
    "    return features_train, features_valid, target_train, target_valid"
   ]
  },
  {
   "cell_type": "code",
   "execution_count": 15,
   "metadata": {
    "scrolled": true
   },
   "outputs": [],
   "source": [
    "features_train_0, features_valid_0, target_train_0, target_valid_0 = test_split(df_0, 'product')"
   ]
  },
  {
   "cell_type": "code",
   "execution_count": 16,
   "metadata": {},
   "outputs": [],
   "source": [
    "def test_split_scaled(df, numeric, target):\n",
    "    df_s = df.copy()\n",
    "\n",
    "    features_s = df_s.drop([target] , axis=1)\n",
    "    target_s = df_s[target]\n",
    "\n",
    "    features_train_s, features_valid_s, target_train_s, target_valid_s = train_test_split(\n",
    "        features_s, target_s, test_size=0.25, random_state=12345)\n",
    "\n",
    "    scaler = StandardScaler()\n",
    "    scaler.fit(features_train_s[numeric])\n",
    "    features_train_s[numeric] = scaler.transform(features_train_s[numeric])\n",
    "    features_valid_s[numeric] = scaler.transform(features_valid_s[numeric])\n",
    "\n",
    "    return features_train_s, features_valid_s, target_train_s, target_valid_s"
   ]
  },
  {
   "cell_type": "markdown",
   "metadata": {},
   "source": [
    "Проведем обучение модели без измененных данных (немасштабированных)."
   ]
  },
  {
   "cell_type": "code",
   "execution_count": 17,
   "metadata": {
    "scrolled": true
   },
   "outputs": [
    {
     "name": "stdout",
     "output_type": "stream",
     "text": [
      "RMSE - 37.5794217150813\n"
     ]
    }
   ],
   "source": [
    "model = LinearRegression()\n",
    "\n",
    "model.fit(features_train_0, target_train_0)\n",
    "predicted_target_0 = model.predict(features_valid_0)\n",
    "print('RMSE -', mean_squared_error(target_valid_0, predicted_target_0)**0.5)"
   ]
  },
  {
   "cell_type": "markdown",
   "metadata": {},
   "source": [
    "А теперь  проверим, каково значение RMSE на маштабированных данных"
   ]
  },
  {
   "cell_type": "code",
   "execution_count": 18,
   "metadata": {
    "scrolled": true
   },
   "outputs": [
    {
     "name": "stdout",
     "output_type": "stream",
     "text": [
      "RMSE на масштабированных данных - 37.5794217150813\n"
     ]
    }
   ],
   "source": [
    "features_train_0s, features_valid_0s, target_train_0s, target_valid_0s = test_split_scaled(\n",
    "                                                                        df_0, ['f0', 'f1', 'f2'], 'product')\n",
    "model.fit(features_train_0s, target_train_0s)\n",
    "predicted_target_0s = model.predict(features_valid_0s)\n",
    "print('RMSE на масштабированных данных -', mean_squared_error(target_valid_0s, predicted_target_0s)**0.5)"
   ]
  },
  {
   "cell_type": "markdown",
   "metadata": {},
   "source": [
    "Аналогичные расчеты произведем для других регионов"
   ]
  },
  {
   "cell_type": "code",
   "execution_count": 19,
   "metadata": {},
   "outputs": [
    {
     "name": "stdout",
     "output_type": "stream",
     "text": [
      "RMSE - 0.893099286775616\n",
      "RMSE на масштабированных данных - 0.8930992867756158\n"
     ]
    }
   ],
   "source": [
    "features_train_1, features_valid_1, target_train_1, target_valid_1 = test_split(df_1, 'product')\n",
    "model.fit(features_train_1, target_train_1)\n",
    "predicted_target_1 = model.predict(features_valid_1)\n",
    "print('RMSE -', mean_squared_error(target_valid_1, predicted_target_1)**0.5)\n",
    "\n",
    "features_train_1s, features_valid_1s, target_train_1s, target_valid_1s = test_split_scaled(\n",
    "                                                                        df_1, ['f0', 'f1', 'f2'], 'product')\n",
    "model.fit(features_train_1s, target_train_1s)\n",
    "predicted_target_1s = model.predict(features_valid_1s)\n",
    "print('RMSE на масштабированных данных -', mean_squared_error(target_valid_1s, predicted_target_1s)**0.5)"
   ]
  },
  {
   "cell_type": "code",
   "execution_count": 20,
   "metadata": {
    "scrolled": false
   },
   "outputs": [
    {
     "name": "stdout",
     "output_type": "stream",
     "text": [
      "RMSE - 40.02970873393434\n",
      "RMSE на масштабированных данных - 40.02970873393434\n"
     ]
    }
   ],
   "source": [
    "features_train_2, features_valid_2, target_train_2, target_valid_2 = test_split(df_2, 'product')\n",
    "model.fit(features_train_2, target_train_2)\n",
    "predicted_target_2 = model.predict(features_valid_2)\n",
    "print('RMSE -', mean_squared_error(target_valid_2, predicted_target_2)**0.5)\n",
    "\n",
    "features_train_2s, features_valid_2s, target_train_2s, target_valid_2s = test_split_scaled(\n",
    "                                                                        df_2, ['f0', 'f1', 'f2'], 'product')\n",
    "model.fit(features_train_2s, target_train_2s)\n",
    "predicted_target_2s = model.predict(features_valid_2s)\n",
    "print('RMSE на масштабированных данных -', mean_squared_error(target_valid_2s, predicted_target_2s)**0.5)"
   ]
  },
  {
   "cell_type": "markdown",
   "metadata": {},
   "source": [
    "Как видим, масштабирование данных не требуется."
   ]
  },
  {
   "cell_type": "markdown",
   "metadata": {},
   "source": [
    "Произведем вывод предсказанного запаса с реальным и выведем RMSE в разрезе каждого региона"
   ]
  },
  {
   "cell_type": "code",
   "execution_count": 21,
   "metadata": {},
   "outputs": [],
   "source": [
    "\n",
    "def oil_predict(df, target_name):\n",
    "    features = df.drop([target_name] , axis=1)\n",
    "    target = df[target_name]\n",
    "    \n",
    "    features_train, features_valid, target_train, target_valid = train_test_split(\n",
    "    features, target, test_size=0.25, random_state=5062020)\n",
    "    \n",
    "    model.fit(features_train, target_train)\n",
    "    predicted_target = model.predict(features_valid)\n",
    "    data = {'real_product' : target_valid,\n",
    "            'predicted_product' : predicted_target         \n",
    "    }\n",
    "    data_frame = pd.DataFrame(data, columns = ['real_product', 'predicted_product'])\n",
    "    rmse = mean_squared_error(target_valid, predicted_target)**0.5\n",
    "    mean = data_frame['predicted_product'].mean()\n",
    "    oil_sum = data_frame['predicted_product'].sum()\n",
    "    return data_frame, rmse, mean, oil_sum"
   ]
  },
  {
   "cell_type": "code",
   "execution_count": 22,
   "metadata": {},
   "outputs": [
    {
     "name": "stdout",
     "output_type": "stream",
     "text": [
      "       real_product  predicted_product\n",
      "87351    145.407098         110.644337\n",
      "52805    131.589165          76.793446\n",
      "6583     101.596316         103.711077\n",
      "34986      8.123407          53.135348\n",
      "8253     169.834019         151.656408\n",
      "RMSE - 37.401957199217094\n",
      "Средний запас сырья, тыс. бареллей - 92.52620585803335\n"
     ]
    }
   ],
   "source": [
    "df_0_predicted, df_0_rmse, df_0_predicted_mean, df_0_predicted_sum = oil_predict(df_0, 'product')\n",
    "print(df_0_predicted.head())\n",
    "print('RMSE -', df_0_rmse)\n",
    "print('Средний запас сырья, тыс. бареллей -', df_0_predicted_mean)"
   ]
  },
  {
   "cell_type": "code",
   "execution_count": 23,
   "metadata": {},
   "outputs": [
    {
     "name": "stdout",
     "output_type": "stream",
     "text": [
      "       real_product  predicted_product\n",
      "87351     53.906522          54.336477\n",
      "52805      3.179103           3.756436\n",
      "6583      30.132364          31.266991\n",
      "34986     26.953261          26.692436\n",
      "8253      30.132364          31.128898\n",
      "RMSE - 0.8874258342572853\n",
      "Средний запас сырья, тыс. бареллей - 68.27820207556354\n"
     ]
    }
   ],
   "source": [
    "df_1_predicted, df_1_rmse, df_1_predicted_mean,df_1_predicted_sum = oil_predict(df_1, 'product')\n",
    "print(df_1_predicted.head())\n",
    "print('RMSE -', df_1_rmse)\n",
    "print('Средний запас сырья, тыс. бареллей -', df_1_predicted_mean)"
   ]
  },
  {
   "cell_type": "code",
   "execution_count": 24,
   "metadata": {},
   "outputs": [
    {
     "name": "stdout",
     "output_type": "stream",
     "text": [
      "       real_product  predicted_product\n",
      "87351    140.971569          62.929196\n",
      "52805    125.190694          98.323840\n",
      "6583      94.544056          79.920918\n",
      "34986    107.208380         104.706020\n",
      "8253     173.924418         114.066050\n",
      "RMSE - 40.18553497171235\n",
      "Средний запас сырья, тыс. бареллей - 94.94294307153748\n"
     ]
    }
   ],
   "source": [
    "df_2_predicted, df_2_rmse, df_2_predicted_mean, df_2_predicted_sum = oil_predict(df_2, 'product')\n",
    "print(df_2_predicted.head())\n",
    "print('RMSE -', df_2_rmse)\n",
    "print('Средний запас сырья, тыс. бареллей -', df_2_predicted_mean)"
   ]
  },
  {
   "cell_type": "code",
   "execution_count": 25,
   "metadata": {
    "scrolled": true
   },
   "outputs": [
    {
     "name": "stdout",
     "output_type": "stream",
     "text": [
      "Суммарный предсказанный запас в позиции 0 - 2313155.146450834\n",
      "Суммарный реальный запас в позиции 0 - 2313395.805667925\n",
      "\n",
      "Суммарный предсказанный запас в позиции 1 - 1706955.0518890887\n",
      "Суммарный реальный запас в позиции 1 - 1706710.3444370048\n",
      "\n",
      "Суммарный предсказанный запас в позиции 2 - 2373573.576788437\n",
      "Суммарный реальный запас в позиции 2 - 2378821.7815969232\n"
     ]
    }
   ],
   "source": [
    "print('Суммарный предсказанный запас в позиции 0 -', df_0_predicted_sum)\n",
    "print('Суммарный реальный запас в позиции 0 -', df_0_predicted['real_product'].sum())\n",
    "print()\n",
    "print('Суммарный предсказанный запас в позиции 1 -', df_1_predicted_sum)\n",
    "print('Суммарный реальный запас в позиции 1 -', df_1_predicted['real_product'].sum())\n",
    "print()\n",
    "print('Суммарный предсказанный запас в позиции 2 -', df_2_predicted_sum)\n",
    "print('Суммарный реальный запас в позиции 2 -', df_2_predicted['real_product'].sum())"
   ]
  },
  {
   "cell_type": "markdown",
   "metadata": {},
   "source": [
    "### Вывод"
   ]
  },
  {
   "cell_type": "markdown",
   "metadata": {},
   "source": [
    "В ходе выполнения 2 шага мы проверили качество модели линейной регрессии с текущими значениями признаков и с масштабированными, разницы не увидели, поэтому масштабирование данных в рассматриваемой задаче не требуется.\n",
    "\n",
    "После этого мы произвели вывод предсказанного запаса с реальным и вывели RMSE в разрезе каждого региона.\n",
    "\n",
    "Суммарные значения предсказаний о количестве нефти  практически совпадают  с суммарными предсказанными значениями. \n",
    "\n",
    "Лучше всего модель предсказала запасы во втором регионе (RMSE - 0.88), далее в третьем и первом соотвественно, в частности остальные месторождения предсказаны с большой ошибкой.\n",
    "\n",
    "Также можно заметить, что у месторождения (df_1), которое предсказано лучше всех, меньше всего среднего запаса сырья, чем у остальных  регионов. \n",
    "\n",
    "Возможно утеряные данные из второго региона сказались на модели и она переобучилась.\n",
    "\n",
    "Можно сделать вывод, что из-за большой ошибки, значения среднего запаса могут быть другими. Попробуем применить технологию Bootstrap, чтобы получить нормальное распределение данных."
   ]
  },
  {
   "cell_type": "markdown",
   "metadata": {},
   "source": [
    "<a id=\"profit\"></a>\n",
    "\n",
    "# 3. Подготовка к расчёту прибыли"
   ]
  },
  {
   "cell_type": "markdown",
   "metadata": {},
   "source": [
    "Создадим переменные об экономической информации."
   ]
  },
  {
   "cell_type": "code",
   "execution_count": 26,
   "metadata": {},
   "outputs": [],
   "source": [
    "budget = 1e+07 #Мы расчитываем прибыль в тысячах рублей за тысячу барелей, поэтому 1 милиард сохранен таким образом\n",
    "chosen_points = 500 #количество исследуемых точек при разведке региона\n",
    "best_points = 200 # количество лучших точек для разработки\n",
    "income_per_barrel = 450 #доход с единицы продукта"
   ]
  },
  {
   "cell_type": "markdown",
   "metadata": {},
   "source": [
    "Рассчитаем достаточный объём сырья для безубыточной разработки новой скважины. Сравним полученный объём сырья со средним запасом в каждом регионе.\n",
    "Безубыточную разработку сырья будем рассчитывать на 200 месторождениях. "
   ]
  },
  {
   "cell_type": "code",
   "execution_count": 27,
   "metadata": {},
   "outputs": [
    {
     "name": "stdout",
     "output_type": "stream",
     "text": [
      "Минимальная прибыль на лучшую точку - 50000.0 тыс.руб.\n",
      "Минимальный объем нефти на точку - 111.11111111111111 тыс. барелей\n",
      "Минимальный объем нефти на регион - 22222.222222222223 тыс. барелей\n"
     ]
    }
   ],
   "source": [
    "min_profit_per_point = budget / best_points\n",
    "print('Минимальная прибыль на лучшую точку -', min_profit_per_point, 'тыс.руб.')\n",
    "\n",
    "min_barrels_per_point = min_profit_per_point  / income_per_barrel\n",
    "print('Минимальный объем нефти на точку -',min_barrels_per_point, 'тыс. барелей')\n",
    "\n",
    "min_barrels = budget / income_per_barrel\n",
    "print('Минимальный объем нефти на регион -',min_barrels, 'тыс. барелей')"
   ]
  },
  {
   "cell_type": "code",
   "execution_count": 28,
   "metadata": {},
   "outputs": [
    {
     "name": "stdout",
     "output_type": "stream",
     "text": [
      "Средний фактический запас нефти на скважину в регионе 1, тыс. бареллей 92.50000000000001\n",
      "Средний фактичесий запас нефти на скважину в регионе 2, тыс. бареллей 68.82500000000002\n",
      "Средний фактический запас нефти на скважину в регионе 3, тыс бареллей 95.00000000000004\n"
     ]
    }
   ],
   "source": [
    "print('Средний фактический запас нефти на скважину в регионе 1, тыс. бареллей', df_0['product'].mean())\n",
    "print('Средний фактичесий запас нефти на скважину в регионе 2, тыс. бареллей', df_1['product'].mean())\n",
    "print('Средний фактический запас нефти на скважину в регионе 3, тыс бареллей', df_2['product'].mean())"
   ]
  },
  {
   "cell_type": "markdown",
   "metadata": {},
   "source": [
    "Создадим функцию для расчета приыли на 500 разведанных точках."
   ]
  },
  {
   "cell_type": "code",
   "execution_count": 29,
   "metadata": {},
   "outputs": [],
   "source": [
    "def oil_profit_calculation(target, probabilities, count):\n",
    "    probs_sorted = probabilities.sort_values(ascending=False)\n",
    "    selected = target[probs_sorted.index][:count]\n",
    "    return income_per_barrel * selected.sum() - budget"
   ]
  },
  {
   "cell_type": "markdown",
   "metadata": {},
   "source": [
    "Выведем распределение предсказанных значений."
   ]
  },
  {
   "cell_type": "code",
   "execution_count": 30,
   "metadata": {},
   "outputs": [
    {
     "data": {
      "image/png": "[encoded data removed]",
      "text/plain": [
       "<Figure size 864x648 with 1 Axes>"
      ]
     },
     "metadata": {
      "needs_background": "light"
     },
     "output_type": "display_data"
    }
   ],
   "source": [
    "oil_hist(df_0_predicted['predicted_product'], 200, 190, 500)"
   ]
  },
  {
   "cell_type": "code",
   "execution_count": 31,
   "metadata": {},
   "outputs": [
    {
     "data": {
      "image/png": "[encoded data removed]",
      "text/plain": [
       "<Figure size 864x648 with 1 Axes>"
      ]
     },
     "metadata": {
      "needs_background": "light"
     },
     "output_type": "display_data"
    }
   ],
   "source": [
    "oil_hist(df_1_predicted['predicted_product'], 200, 190, 500)"
   ]
  },
  {
   "cell_type": "code",
   "execution_count": 32,
   "metadata": {},
   "outputs": [
    {
     "data": {
      "image/png": "[encoded data removed]",
      "text/plain": [
       "<Figure size 864x648 with 1 Axes>"
      ]
     },
     "metadata": {
      "needs_background": "light"
     },
     "output_type": "display_data"
    }
   ],
   "source": [
    "oil_hist(df_2_predicted['predicted_product'], 200, 190, 500)"
   ]
  },
  {
   "cell_type": "markdown",
   "metadata": {},
   "source": [
    "### Вывод"
   ]
  },
  {
   "cell_type": "markdown",
   "metadata": {},
   "source": [
    "В ходе выполнения 3 шага произведена оценка минимального размера прибыли на скважину и минимального объема запасов на скважину, а также создана функция по расчету прибыли.\n",
    "\n",
    "Также мы сравнили полученный объём сырья со средним запасом в каждом регионе. Для первого и третьего - высокая вероятность окупить затраты. Разброс значений вокруг среднего 92.5 и 95 говорит нам о том, что существует достаточно много скважин, где запасы больше необходимого минимального запаса.\n",
    "\n",
    "Во втором регионе (df_1) значений больше 111 достаточно много и при наличии большого везения можно выбрать только лучшие в этой выборке, хотя и среднее значение 68.8."
   ]
  },
  {
   "cell_type": "markdown",
   "metadata": {},
   "source": [
    "<a id=\"calculation\"></a>\n",
    "\n",
    "# 4. Расчёт прибыли и рисков "
   ]
  },
  {
   "cell_type": "markdown",
   "metadata": {},
   "source": [
    "Посчитаем риски и прибыль для каждого региона.  Применим технику Bootstrap с 1000 выборок, чтобы найти распределение прибыли"
   ]
  },
  {
   "cell_type": "code",
   "execution_count": 33,
   "metadata": {},
   "outputs": [],
   "source": [
    "state = np.random.RandomState(12345)\n",
    "def bootstrap_1000(target, probs):\n",
    "    values=[]\n",
    "    lost = 0\n",
    "    for i in range(1000):\n",
    "        target_sample = target.sample(replace=True, random_state=state, n=chosen_points)\n",
    "        probs_sample = probs[target_sample.index]\n",
    "        profit = oil_profit_calculation(target, probs_sample, best_points)\n",
    "        if profit < 0:\n",
    "            lost +=1\n",
    "        values.append(profit)\n",
    "    \n",
    "    values = pd.Series(values)\n",
    "    lower = values.quantile(0.025)\n",
    "    upper = values.quantile(0.975)\n",
    "    average = values.mean()\n",
    "    risk = lost / 1000\n",
    "    return average, lower, upper, risk"
   ]
  },
  {
   "cell_type": "markdown",
   "metadata": {},
   "source": [
    "Найдем среднюю прибыль, 95%-й доверительный интервал и риск убытков для каждого региона."
   ]
  },
  {
   "cell_type": "code",
   "execution_count": 34,
   "metadata": {},
   "outputs": [
    {
     "name": "stdout",
     "output_type": "stream",
     "text": [
      "Данные по первому региону.\n",
      "Средняя прибыль по региону = 434350.79 тыс.руб.\n",
      "95% доверительный интервал от -90159.97 до 932812.54 тыс.руб.\n",
      "Процент риска 5.00%\n"
     ]
    }
   ],
   "source": [
    "average_0, lower_0, upper_0, risk_0 = bootstrap_1000(df_0_predicted['real_product'], \n",
    "                                                     df_0_predicted['predicted_product'])\n",
    "print('Данные по первому региону.')\n",
    "print('Средняя прибыль по региону = {:.2f} тыс.руб.'.format(average_0))\n",
    "print('95% доверительный интервал от {:.2f} до {:.2f} тыс.руб.'.format(lower_0, upper_0))\n",
    "print('Процент риска {:.2%}'.format(risk_0))"
   ]
  },
  {
   "cell_type": "code",
   "execution_count": 35,
   "metadata": {},
   "outputs": [
    {
     "name": "stdout",
     "output_type": "stream",
     "text": [
      "Данные по второму региону.\n",
      "Средняя прибыль по региону = 432521.50 тыс.руб.\n",
      "95% доверительный интервал от 44615.29 до 838081.46 тыс.руб.\n",
      "Процент риска 1.90%\n"
     ]
    }
   ],
   "source": [
    "average_1, lower_1, upper_1, risk_1 = bootstrap_1000(df_1_predicted['real_product'], \n",
    "                                                     df_1_predicted['predicted_product'])\n",
    "print('Данные по второму региону.')\n",
    "print('Средняя прибыль по региону = {:.2f} тыс.руб.'.format(average_1))\n",
    "print('95% доверительный интервал от {:.2f} до {:.2f} тыс.руб.'.format(lower_1, upper_1))\n",
    "print('Процент риска {:.2%}'.format(risk_1))"
   ]
  },
  {
   "cell_type": "code",
   "execution_count": null,
   "metadata": {
    "scrolled": true
   },
   "outputs": [],
   "source": [
    "average_2, lower_2, upper_2, risk_2 = bootstrap_1000(df_2_predicted['real_product'], \n",
    "                                                     df_2_predicted['predicted_product'])\n",
    "print('Данные по третьему региону.')\n",
    "print('Средняя прибыль по региону = {:.2f} тыс.руб.'.format(average_2))\n",
    "print('95% доверительный интервал от {:.2f} до {:.2f} тыс.руб.'.format(lower_2, upper_2))\n",
    "print('Процент риска {:.2%}'.format(risk_2))"
   ]
  },
  {
   "cell_type": "markdown",
   "metadata": {},
   "source": [
    "### Вывод"
   ]
  },
  {
   "cell_type": "markdown",
   "metadata": {},
   "source": [
    "В ходе выполнения 4 шага  мы посчитали риски и прибыль для каждого региона.  Применили технику Bootstrap с 1000 выборок, чтобы найти распределение прибыли, а также нашли среднюю прибыль, 95%-й доверительный интервал и риск убытков для каждого региона.\n",
    "\n",
    "В результате мы отсеиваем первый и третий регион, так как риски достаточно велики, то есть велика вероятность убытков. Остается один единственный регион - второй, где риск ниже требуемого. Кроме того, доверительный интервал по 2 региону показывает, что даже при не очень удачном выборе, разработка скважин окупится."
   ]
  },
  {
   "cell_type": "markdown",
   "metadata": {},
   "source": [
    "<a id=\"conclusion\"></a>\n",
    "\n",
    "# 5.Общий вывод"
   ]
  },
  {
   "cell_type": "markdown",
   "metadata": {},
   "source": [
    "По результатам проведенного исследования можно сделать нижеследующие выводы.\n",
    "\n",
    " * В ходе выполнения первого шага мы подготовили данные к обучению.\n",
    "\n",
    "Мы определили, что будем анализировать 3 датафрейма (региона) со следующими признаками:\n",
    "\n",
    "id — уникальный идентификатор скважины;\n",
    "\n",
    "f0, f1, f2 — три признака точек;\n",
    "\n",
    "product — объём запасов в скважине (тыс. баррелей).\n",
    "\n",
    "Нами принято решение, удалить из каждого датафрейма признак id, так как он не несет значимости для обучения модели.\n",
    "\n",
    "Пропусков значений и некорректных типов данных нами не обнаружено.\n",
    "\n",
    "Вместе с тем, во втором регионе (df_1) около 8,2% месторождений не имело значения в столбце product. При сравнении с такими же значениями из первого и третьего региона можно сделать вывод, что возможно имела место утеря данных или объем запасов еще не был исследован.\n",
    "\n",
    "Также, мы визуально посмотрели на распределение значений по столбцу product в каждом регионе.\n",
    "\n",
    "На графиках мы увидели, что у первого и третьего региона распределение значений близкое к нормальному, при этом во втором регионе данные имеют странное распределение: от 0 до 5 тыс. баррелей с шагом по 15-20 тыс. равномерно распределены 1000 значений. Данные не подчиняются закону больших чисел и скорее всего введены искусcтвенно.\n",
    "\n",
    " * В ходе выполнения 2 шага мы проверили качество модели линейной регрессии с текущими значениями признаков и с масштабированными, разницы не увидели, поэтому масштабирование данных в рассматриваемой задаче не требуется.\n",
    "\n",
    "После этого мы произвели вывод предсказанного запаса с реальным и вывели RMSE в разрезе каждого региона.\n",
    "\n",
    "Нами устаовлено, что суммарные значения предсказаний о количестве нефти  практически совпадают  с суммарными предсказанными значениями. \n",
    "\n",
    "Лучше всего модель предсказала запасы во втором регионе (RMSE - 0.88), далее в третьем и первом соотвественно, в частности остальные месторождения предсказаны с большой ошибкой.\n",
    "\n",
    "Также нами замечено, что у месторождения (df_1), которое предсказано лучше всех, меньше всего среднего запаса сырья, чем у остальных  регионов. \n",
    "\n",
    "Возможно утеряные данные из второго региона сказались на модели и она переобучилась.\n",
    "\n",
    "Мы сделали вывод, что из-за большой ошибки, значения среднего запаса могут быть другими. \n",
    "\n",
    " * В ходе выполнения 3 шага произведена оценка минимального размера прибыли на скважину и минимального объема запасов на скважину, а также создана функция по расчету прибыли.\n",
    "\n",
    "Также мы сравнили полученный объём сырья со средним запасом в каждом регионе. Для первого и третьего - высокая вероятность окупить затраты. Разброс значений вокруг среднего 92.5 и 95 говорит нам о том, что существует достаточно много скважин, где запасы больше необходимого минимального запаса.\n",
    "\n",
    "Мы увидели, что во втором регионе (df_1) значений больше 111 достаточно много и при наличии большого везения можно выбрать только лучшие в этой выборке, хотя и среднее значение 68,8.\n",
    "\n",
    " * В ходе выполнения 4 шага мы посчитали риски и прибыль для каждого региона. Применили технику Bootstrap с 1000 выборок, чтобы найти распределение прибыли, а также нашли среднюю прибыль, 95%-й доверительный интервал и риск убытков для каждого региона.\n",
    "\n",
    "В результате мы приняли решение, отсеять первый и третий регион, так как риски в данных регионах достаточно велики, то есть велика вероятность убытков. Остается один единственный регион - второй, где риск ниже требуемого. Кроме того, доверительный интервал по 2 региону показывает, что даже при не очень удачном выборе, разработка скважин окупится.\n",
    "\n",
    "Учитывая вышеизложенное, наиболее оптимальной локацией в данном случае является второй регион (df_1)."
   ]
  }
 ],
 "metadata": {
  "ExecuteTimeLog": [
   {
    "duration": 1592,
    "start_time": "2021-12-23T21:59:39.860Z"
   },
   {
    "duration": 186,
    "start_time": "2021-12-23T21:59:41.454Z"
   },
   {
    "duration": 174,
    "start_time": "2021-12-23T21:59:41.643Z"
   },
   {
    "duration": 170,
    "start_time": "2021-12-23T21:59:41.819Z"
   },
   {
    "duration": 22,
    "start_time": "2021-12-23T21:59:41.991Z"
   },
   {
    "duration": 6,
    "start_time": "2021-12-23T21:59:42.015Z"
   },
   {
    "duration": 9,
    "start_time": "2021-12-23T21:59:42.023Z"
   },
   {
    "duration": 39,
    "start_time": "2021-12-23T21:59:42.036Z"
   },
   {
    "duration": 7,
    "start_time": "2021-12-23T21:59:42.078Z"
   },
   {
    "duration": 6,
    "start_time": "2021-12-23T21:59:42.088Z"
   },
   {
    "duration": 1062,
    "start_time": "2021-12-23T21:59:42.097Z"
   },
   {
    "duration": 725,
    "start_time": "2021-12-23T21:59:43.161Z"
   },
   {
    "duration": 1094,
    "start_time": "2021-12-23T21:59:43.888Z"
   },
   {
    "duration": 5,
    "start_time": "2021-12-23T21:59:44.984Z"
   },
   {
    "duration": 24,
    "start_time": "2021-12-23T21:59:44.992Z"
   },
   {
    "duration": 6,
    "start_time": "2021-12-23T21:59:45.019Z"
   },
   {
    "duration": 140,
    "start_time": "2021-12-23T21:59:45.028Z"
   },
   {
    "duration": 140,
    "start_time": "2021-12-23T21:59:45.172Z"
   },
   {
    "duration": 384,
    "start_time": "2021-12-23T21:59:45.314Z"
   },
   {
    "duration": 327,
    "start_time": "2021-12-23T21:59:45.768Z"
   },
   {
    "duration": 10,
    "start_time": "2021-12-23T21:59:46.166Z"
   },
   {
    "duration": 107,
    "start_time": "2021-12-23T21:59:46.267Z"
   },
   {
    "duration": 188,
    "start_time": "2021-12-23T21:59:46.381Z"
   },
   {
    "duration": 196,
    "start_time": "2021-12-23T21:59:46.573Z"
   },
   {
    "duration": 102,
    "start_time": "2021-12-23T21:59:46.773Z"
   },
   {
    "duration": 5,
    "start_time": "2021-12-23T21:59:46.878Z"
   },
   {
    "duration": 9,
    "start_time": "2021-12-23T21:59:46.886Z"
   },
   {
    "duration": 11,
    "start_time": "2021-12-23T21:59:46.898Z"
   },
   {
    "duration": 6,
    "start_time": "2021-12-23T21:59:46.912Z"
   },
   {
    "duration": 1577,
    "start_time": "2021-12-23T21:59:46.969Z"
   },
   {
    "duration": 1554,
    "start_time": "2021-12-23T21:59:48.549Z"
   },
   {
    "duration": 1590,
    "start_time": "2021-12-23T21:59:50.106Z"
   },
   {
    "duration": 10,
    "start_time": "2021-12-23T21:59:51.699Z"
   },
   {
    "duration": 7482,
    "start_time": "2021-12-23T21:59:51.712Z"
   },
   {
    "duration": 4781,
    "start_time": "2021-12-23T21:59:59.196Z"
   }
  ],
  "kernelspec": {
   "display_name": "Python 3",
   "language": "python",
   "name": "python3"
  },
  "language_info": {
   "codemirror_mode": {
    "name": "ipython",
    "version": 3
   },
   "file_extension": ".py",
   "mimetype": "text/x-python",
   "name": "python",
   "nbconvert_exporter": "python",
   "pygments_lexer": "ipython3",
   "version": "3.7.8"
  },
  "toc": {
   "base_numbering": 1,
   "nav_menu": {},
   "number_sections": true,
   "sideBar": true,
   "skip_h1_title": false,
   "title_cell": "Table of Contents",
   "title_sidebar": "Contents",
   "toc_cell": false,
   "toc_position": {},
   "toc_section_display": true,
   "toc_window_display": false
  }
 },
 "nbformat": 4,
 "nbformat_minor": 2
}
